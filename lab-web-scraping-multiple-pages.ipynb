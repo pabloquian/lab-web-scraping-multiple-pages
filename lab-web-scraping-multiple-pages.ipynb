{
 "cells": [
  {
   "cell_type": "markdown",
   "id": "f3e826a4",
   "metadata": {},
   "source": [
    "# Web scraping multiple pages"
   ]
  },
  {
   "cell_type": "markdown",
   "id": "6284762d",
   "metadata": {},
   "source": [
    "Scrape at least 3 of these sites.\n",
    "\n",
    "- Retrieve an arbitrary Wikipedia page of \"Python\" and create a list of links on that page: url ='https://en.wikipedia.org/wiki/Python'\n",
    "- Find the number of titles that have changed in the United States Code since its last release point: url = 'http://uscode.house.gov/download/download.shtml'\n",
    "- Create a Python list with the top ten FBI's Most Wanted names: url = 'https://www.fbi.gov/wanted/topten'\n",
    "- Display the 20 latest earthquakes info (date, time, latitude, longitude and region name) by the EMSC as a pandas dataframe: url = 'https://emsc-csem.org/Earthquake_information/#1'\n",
    "- List all language names and number of related articles in the order they appear in wikipedia.org: url = 'https://www.wikipedia.org/'\n",
    "- A list with the different kind of datasets available in data.gov.uk: url = 'https://data.gov.uk/'\n",
    "- Display the top 10 languages by number of native speakers stored in a pandas dataframe: url = 'https://en.wikipedia.org/wiki/List_of_languages_by_number_of_native_speakers'"
   ]
  },
  {
   "cell_type": "code",
   "execution_count": 2,
   "id": "8dc1a8c0",
   "metadata": {},
   "outputs": [],
   "source": [
    "# import libraries\n",
    "from bs4 import BeautifulSoup\n",
    "import requests\n",
    "import pandas as pd"
   ]
  },
  {
   "cell_type": "markdown",
   "id": "215dfd0c",
   "metadata": {},
   "source": [
    "### Display the top 10 languages by number of native speakers stored in a pandas dataframe"
   ]
  },
  {
   "cell_type": "code",
   "execution_count": 3,
   "id": "4307a17c",
   "metadata": {},
   "outputs": [],
   "source": [
    "# find url and store it in a variable\n",
    "url = \"https://en.wikipedia.org/wiki/List_of_languages_by_number_of_native_speakers\""
   ]
  },
  {
   "cell_type": "code",
   "execution_count": 4,
   "id": "2f260594",
   "metadata": {},
   "outputs": [],
   "source": [
    "# download html with a get request\n",
    "response = requests.get(url)"
   ]
  },
  {
   "cell_type": "code",
   "execution_count": 5,
   "id": "3d716cd7",
   "metadata": {},
   "outputs": [
    {
     "data": {
      "text/plain": [
       "200"
      ]
     },
     "execution_count": 5,
     "metadata": {},
     "output_type": "execute_result"
    }
   ],
   "source": [
    "response.status_code # 200 status code means OK!"
   ]
  },
  {
   "cell_type": "code",
   "execution_count": 9,
   "id": "cd23c77b",
   "metadata": {},
   "outputs": [],
   "source": [
    "# response.content"
   ]
  },
  {
   "cell_type": "code",
   "execution_count": 7,
   "id": "925c6650",
   "metadata": {},
   "outputs": [],
   "source": [
    "# parse html (create the 'soup')\n",
    "soup = BeautifulSoup(response.content, \"html.parser\")"
   ]
  },
  {
   "cell_type": "code",
   "execution_count": 10,
   "id": "34291c87",
   "metadata": {},
   "outputs": [],
   "source": [
    "# check that the html code looks like it should\n",
    "# soup"
   ]
  },
  {
   "cell_type": "code",
   "execution_count": 21,
   "id": "139a96ff",
   "metadata": {
    "scrolled": true
   },
   "outputs": [
    {
     "ename": "TypeError",
     "evalue": "list indices must be integers or slices, not str",
     "output_type": "error",
     "traceback": [
      "\u001b[1;31m---------------------------------------------------------------------------\u001b[0m",
      "\u001b[1;31mTypeError\u001b[0m                                 Traceback (most recent call last)",
      "Cell \u001b[1;32mIn[21], line 2\u001b[0m\n\u001b[0;32m      1\u001b[0m \u001b[38;5;66;03m# retrieve/extract the desired info \u001b[39;00m\n\u001b[1;32m----> 2\u001b[0m soup\u001b[38;5;241m.\u001b[39mselect(\u001b[38;5;124m\"\u001b[39m\u001b[38;5;124ma\u001b[39m\u001b[38;5;124m\"\u001b[39m)[\u001b[38;5;124m'\u001b[39m\u001b[38;5;124mtitle\u001b[39m\u001b[38;5;124m'\u001b[39m]\n",
      "\u001b[1;31mTypeError\u001b[0m: list indices must be integers or slices, not str"
     ]
    }
   ],
   "source": [
    "# retrieve/extract the desired info \n",
    "soup.select(\"a\")['title']"
   ]
  },
  {
   "cell_type": "code",
   "execution_count": 37,
   "id": "c80d2fc5",
   "metadata": {},
   "outputs": [],
   "source": [
    "soup.select(\"table\")[0]"
   ]
  },
  {
   "cell_type": "code",
   "execution_count": 26,
   "id": "058198f7",
   "metadata": {
    "scrolled": true
   },
   "outputs": [
    {
     "data": {
      "text/plain": [
       "[<a class=\"mw-redirect\" href=\"/wiki/ISO_639:cmn\" title=\"ISO 639:cmn\">Mandarin Chinese</a>,\n",
       " <a href=\"/wiki/Sino-Tibetan_languages\" title=\"Sino-Tibetan languages\">Sino-Tibetan</a>,\n",
       " <a href=\"/wiki/Sinitic_languages\" title=\"Sinitic languages\">Sinitic</a>,\n",
       " <a class=\"mw-redirect\" href=\"/wiki/ISO_639:spa\" title=\"ISO 639:spa\">Spanish</a>,\n",
       " <a href=\"/wiki/Indo-European_languages\" title=\"Indo-European languages\">Indo-European</a>,\n",
       " <a href=\"/wiki/Romance_languages\" title=\"Romance languages\">Romance</a>,\n",
       " <a class=\"mw-redirect\" href=\"/wiki/ISO_639:eng\" title=\"ISO 639:eng\">English</a>,\n",
       " <a href=\"/wiki/Indo-European_languages\" title=\"Indo-European languages\">Indo-European</a>,\n",
       " <a href=\"/wiki/Germanic_languages\" title=\"Germanic languages\">Germanic</a>,\n",
       " <a class=\"mw-redirect\" href=\"/wiki/ISO_639:hin\" title=\"ISO 639:hin\">Hindi</a>,\n",
       " <a href=\"/wiki/Indo-European_languages\" title=\"Indo-European languages\">Indo-European</a>,\n",
       " <a href=\"/wiki/Indo-Aryan_languages\" title=\"Indo-Aryan languages\">Indo-Aryan</a>,\n",
       " <a class=\"mw-redirect\" href=\"/wiki/ISO_639:por\" title=\"ISO 639:por\">Portuguese</a>,\n",
       " <a href=\"/wiki/Indo-European_languages\" title=\"Indo-European languages\">Indo-European</a>,\n",
       " <a href=\"/wiki/Romance_languages\" title=\"Romance languages\">Romance</a>,\n",
       " <a class=\"mw-redirect\" href=\"/wiki/ISO_639:ben\" title=\"ISO 639:ben\">Bengali</a>,\n",
       " <a href=\"/wiki/Indo-European_languages\" title=\"Indo-European languages\">Indo-European</a>,\n",
       " <a href=\"/wiki/Indo-Aryan_languages\" title=\"Indo-Aryan languages\">Indo-Aryan</a>,\n",
       " <a class=\"mw-redirect\" href=\"/wiki/ISO_639:rus\" title=\"ISO 639:rus\">Russian</a>,\n",
       " <a href=\"/wiki/Indo-European_languages\" title=\"Indo-European languages\">Indo-European</a>,\n",
       " <a href=\"/wiki/Balto-Slavic_languages\" title=\"Balto-Slavic languages\">Balto-Slavic</a>,\n",
       " <a class=\"mw-redirect\" href=\"/wiki/ISO_639:jpn\" title=\"ISO 639:jpn\">Japanese</a>,\n",
       " <a href=\"/wiki/Japonic_languages\" title=\"Japonic languages\">Japonic</a>,\n",
       " <a href=\"/wiki/Japanese_language\" title=\"Japanese language\">Japanese</a>,\n",
       " <a class=\"mw-redirect\" href=\"/wiki/ISO_639:yue\" title=\"ISO 639:yue\">Yue Chinese</a>,\n",
       " <a href=\"/wiki/Sino-Tibetan_languages\" title=\"Sino-Tibetan languages\">Sino-Tibetan</a>,\n",
       " <a href=\"/wiki/Sinitic_languages\" title=\"Sinitic languages\">Sinitic</a>,\n",
       " <a class=\"mw-redirect\" href=\"/wiki/ISO_639:vie\" title=\"ISO 639:vie\">Vietnamese</a>,\n",
       " <a href=\"/wiki/Austroasiatic_languages\" title=\"Austroasiatic languages\">Austroasiatic</a>,\n",
       " <a href=\"/wiki/Vietic_languages\" title=\"Vietic languages\">Vietic</a>,\n",
       " <a class=\"mw-redirect\" href=\"/wiki/ISO_639:tur\" title=\"ISO 639:tur\">Turkish</a>,\n",
       " <a href=\"/wiki/Turkic_languages\" title=\"Turkic languages\">Turkic</a>,\n",
       " <a href=\"/wiki/Oghuz_languages\" title=\"Oghuz languages\">Oghuz</a>,\n",
       " <a class=\"mw-redirect\" href=\"/wiki/ISO_639:wuu\" title=\"ISO 639:wuu\">Wu Chinese</a>,\n",
       " <a href=\"/wiki/Sino-Tibetan_languages\" title=\"Sino-Tibetan languages\">Sino-Tibetan</a>,\n",
       " <a href=\"/wiki/Sinitic_languages\" title=\"Sinitic languages\">Sinitic</a>,\n",
       " <a class=\"mw-redirect\" href=\"/wiki/ISO_639:mar\" title=\"ISO 639:mar\">Marathi</a>,\n",
       " <a href=\"/wiki/Indo-European_languages\" title=\"Indo-European languages\">Indo-European</a>,\n",
       " <a href=\"/wiki/Indo-Aryan_languages\" title=\"Indo-Aryan languages\">Indo-Aryan</a>,\n",
       " <a class=\"mw-redirect\" href=\"/wiki/ISO_639:tel\" title=\"ISO 639:tel\">Telugu</a>,\n",
       " <a href=\"/wiki/Dravidian_languages\" title=\"Dravidian languages\">Dravidian</a>,\n",
       " <a class=\"mw-redirect\" href=\"/wiki/ISO_639:kor\" title=\"ISO 639:kor\">Korean</a>,\n",
       " <a href=\"/wiki/Koreanic_languages\" title=\"Koreanic languages\">Koreanic</a>,\n",
       " <a class=\"mw-redirect\" href=\"/wiki/ISO_639:fra\" title=\"ISO 639:fra\">French</a>,\n",
       " <a href=\"/wiki/Indo-European_languages\" title=\"Indo-European languages\">Indo-European</a>,\n",
       " <a href=\"/wiki/Romance_languages\" title=\"Romance languages\">Romance</a>,\n",
       " <a class=\"mw-redirect\" href=\"/wiki/ISO_639:tam\" title=\"ISO 639:tam\">Tamil</a>,\n",
       " <a href=\"/wiki/Dravidian_languages\" title=\"Dravidian languages\">Dravidian</a>,\n",
       " <a class=\"mw-redirect\" href=\"/wiki/ISO_639:arz\" title=\"ISO 639:arz\">Egyptian Arabic</a>,\n",
       " <a href=\"/wiki/Afroasiatic_languages\" title=\"Afroasiatic languages\">Afroasiatic</a>,\n",
       " <a href=\"/wiki/Semitic_languages\" title=\"Semitic languages\">Semitic</a>,\n",
       " <a class=\"mw-redirect\" href=\"/wiki/ISO_639:deu\" title=\"ISO 639:deu\">Standard German</a>,\n",
       " <a href=\"/wiki/Indo-European_languages\" title=\"Indo-European languages\">Indo-European</a>,\n",
       " <a href=\"/wiki/Germanic_languages\" title=\"Germanic languages\">Germanic</a>,\n",
       " <a class=\"mw-redirect\" href=\"/wiki/ISO_639:urd\" title=\"ISO 639:urd\">Urdu</a>,\n",
       " <a href=\"/wiki/Indo-European_languages\" title=\"Indo-European languages\">Indo-European</a>,\n",
       " <a href=\"/wiki/Indo-Aryan_languages\" title=\"Indo-Aryan languages\">Indo-Aryan</a>,\n",
       " <a class=\"mw-redirect\" href=\"/wiki/ISO_639:jav\" title=\"ISO 639:jav\">Javanese</a>,\n",
       " <a href=\"/wiki/Austronesian_languages\" title=\"Austronesian languages\">Austronesian</a>,\n",
       " <a href=\"/wiki/Malayo-Polynesian_languages\" title=\"Malayo-Polynesian languages\">Malayo-Polynesian</a>,\n",
       " <a class=\"mw-redirect\" href=\"/wiki/ISO_639:pnb\" title=\"ISO 639:pnb\">Western Punjabi</a>,\n",
       " <a href=\"/wiki/Indo-European_languages\" title=\"Indo-European languages\">Indo-European</a>,\n",
       " <a href=\"/wiki/Indo-Aryan_languages\" title=\"Indo-Aryan languages\">Indo-Aryan</a>,\n",
       " <a class=\"mw-redirect\" href=\"/wiki/ISO_639:ita\" title=\"ISO 639:ita\">Italian</a>,\n",
       " <a href=\"/wiki/Indo-European_languages\" title=\"Indo-European languages\">Indo-European</a>,\n",
       " <a href=\"/wiki/Romance_languages\" title=\"Romance languages\">Romance</a>,\n",
       " <a class=\"mw-redirect\" href=\"/wiki/ISO_639:guj\" title=\"ISO 639:guj\">Gujarati</a>,\n",
       " <a href=\"/wiki/Indo-European_languages\" title=\"Indo-European languages\">Indo-European</a>,\n",
       " <a href=\"/wiki/Indo-Aryan_languages\" title=\"Indo-Aryan languages\">Indo-Aryan</a>,\n",
       " <a class=\"mw-redirect\" href=\"/wiki/ISO_639:pes\" title=\"ISO 639:pes\">Iranian Persian</a>,\n",
       " <a href=\"/wiki/Indo-European_languages\" title=\"Indo-European languages\">Indo-European</a>,\n",
       " <a href=\"/wiki/Iranian_languages\" title=\"Iranian languages\">Iranian</a>,\n",
       " <a class=\"mw-redirect\" href=\"/wiki/ISO_639:bho\" title=\"ISO 639:bho\">Bhojpuri</a>,\n",
       " <a href=\"/wiki/Indo-European_languages\" title=\"Indo-European languages\">Indo-European</a>,\n",
       " <a href=\"/wiki/Indo-Aryan_languages\" title=\"Indo-Aryan languages\">Indo-Aryan</a>,\n",
       " <a class=\"mw-redirect\" href=\"/wiki/ISO_639:hau\" title=\"ISO 639:hau\">Hausa</a>,\n",
       " <a href=\"/wiki/Afroasiatic_languages\" title=\"Afroasiatic languages\">Afroasiatic</a>,\n",
       " <a href=\"/wiki/Chadic_languages\" title=\"Chadic languages\">Chadic</a>]"
      ]
     },
     "execution_count": 26,
     "metadata": {},
     "output_type": "execute_result"
    }
   ],
   "source": [
    "prestab = soup.select(\"table\")[0]\n",
    "prestab\n",
    "prestab.select(\"tr td a\")"
   ]
  },
  {
   "cell_type": "code",
   "execution_count": 52,
   "id": "42dd7e98",
   "metadata": {
    "scrolled": true
   },
   "outputs": [
    {
     "data": {
      "text/plain": [
       "[<a class=\"mw-redirect\" href=\"/wiki/ISO_639:cmn\" title=\"ISO 639:cmn\">Mandarin Chinese</a>,\n",
       " <a href=\"/wiki/Sino-Tibetan_languages\" title=\"Sino-Tibetan languages\">Sino-Tibetan</a>,\n",
       " <a href=\"/wiki/Sinitic_languages\" title=\"Sinitic languages\">Sinitic</a>,\n",
       " <a class=\"mw-redirect\" href=\"/wiki/ISO_639:spa\" title=\"ISO 639:spa\">Spanish</a>,\n",
       " <a href=\"/wiki/Indo-European_languages\" title=\"Indo-European languages\">Indo-European</a>,\n",
       " <a href=\"/wiki/Romance_languages\" title=\"Romance languages\">Romance</a>,\n",
       " <a class=\"mw-redirect\" href=\"/wiki/ISO_639:eng\" title=\"ISO 639:eng\">English</a>,\n",
       " <a href=\"/wiki/Indo-European_languages\" title=\"Indo-European languages\">Indo-European</a>,\n",
       " <a href=\"/wiki/Germanic_languages\" title=\"Germanic languages\">Germanic</a>,\n",
       " <a class=\"mw-redirect\" href=\"/wiki/ISO_639:hin\" title=\"ISO 639:hin\">Hindi</a>,\n",
       " <a href=\"/wiki/Indo-European_languages\" title=\"Indo-European languages\">Indo-European</a>,\n",
       " <a href=\"/wiki/Indo-Aryan_languages\" title=\"Indo-Aryan languages\">Indo-Aryan</a>,\n",
       " <a class=\"mw-redirect\" href=\"/wiki/ISO_639:por\" title=\"ISO 639:por\">Portuguese</a>,\n",
       " <a href=\"/wiki/Indo-European_languages\" title=\"Indo-European languages\">Indo-European</a>,\n",
       " <a href=\"/wiki/Romance_languages\" title=\"Romance languages\">Romance</a>,\n",
       " <a class=\"mw-redirect\" href=\"/wiki/ISO_639:ben\" title=\"ISO 639:ben\">Bengali</a>,\n",
       " <a href=\"/wiki/Indo-European_languages\" title=\"Indo-European languages\">Indo-European</a>,\n",
       " <a href=\"/wiki/Indo-Aryan_languages\" title=\"Indo-Aryan languages\">Indo-Aryan</a>,\n",
       " <a class=\"mw-redirect\" href=\"/wiki/ISO_639:rus\" title=\"ISO 639:rus\">Russian</a>,\n",
       " <a href=\"/wiki/Indo-European_languages\" title=\"Indo-European languages\">Indo-European</a>,\n",
       " <a href=\"/wiki/Balto-Slavic_languages\" title=\"Balto-Slavic languages\">Balto-Slavic</a>,\n",
       " <a class=\"mw-redirect\" href=\"/wiki/ISO_639:jpn\" title=\"ISO 639:jpn\">Japanese</a>,\n",
       " <a href=\"/wiki/Japonic_languages\" title=\"Japonic languages\">Japonic</a>,\n",
       " <a href=\"/wiki/Japanese_language\" title=\"Japanese language\">Japanese</a>,\n",
       " <a class=\"mw-redirect\" href=\"/wiki/ISO_639:yue\" title=\"ISO 639:yue\">Yue Chinese</a>,\n",
       " <a href=\"/wiki/Sino-Tibetan_languages\" title=\"Sino-Tibetan languages\">Sino-Tibetan</a>,\n",
       " <a href=\"/wiki/Sinitic_languages\" title=\"Sinitic languages\">Sinitic</a>,\n",
       " <a class=\"mw-redirect\" href=\"/wiki/ISO_639:vie\" title=\"ISO 639:vie\">Vietnamese</a>,\n",
       " <a href=\"/wiki/Austroasiatic_languages\" title=\"Austroasiatic languages\">Austroasiatic</a>,\n",
       " <a href=\"/wiki/Vietic_languages\" title=\"Vietic languages\">Vietic</a>,\n",
       " <a class=\"mw-redirect\" href=\"/wiki/ISO_639:tur\" title=\"ISO 639:tur\">Turkish</a>,\n",
       " <a href=\"/wiki/Turkic_languages\" title=\"Turkic languages\">Turkic</a>,\n",
       " <a href=\"/wiki/Oghuz_languages\" title=\"Oghuz languages\">Oghuz</a>,\n",
       " <a class=\"mw-redirect\" href=\"/wiki/ISO_639:wuu\" title=\"ISO 639:wuu\">Wu Chinese</a>,\n",
       " <a href=\"/wiki/Sino-Tibetan_languages\" title=\"Sino-Tibetan languages\">Sino-Tibetan</a>,\n",
       " <a href=\"/wiki/Sinitic_languages\" title=\"Sinitic languages\">Sinitic</a>,\n",
       " <a class=\"mw-redirect\" href=\"/wiki/ISO_639:mar\" title=\"ISO 639:mar\">Marathi</a>,\n",
       " <a href=\"/wiki/Indo-European_languages\" title=\"Indo-European languages\">Indo-European</a>,\n",
       " <a href=\"/wiki/Indo-Aryan_languages\" title=\"Indo-Aryan languages\">Indo-Aryan</a>,\n",
       " <a class=\"mw-redirect\" href=\"/wiki/ISO_639:tel\" title=\"ISO 639:tel\">Telugu</a>,\n",
       " <a href=\"/wiki/Dravidian_languages\" title=\"Dravidian languages\">Dravidian</a>,\n",
       " <a class=\"mw-redirect\" href=\"/wiki/ISO_639:kor\" title=\"ISO 639:kor\">Korean</a>,\n",
       " <a href=\"/wiki/Koreanic_languages\" title=\"Koreanic languages\">Koreanic</a>,\n",
       " <a class=\"mw-redirect\" href=\"/wiki/ISO_639:fra\" title=\"ISO 639:fra\">French</a>,\n",
       " <a href=\"/wiki/Indo-European_languages\" title=\"Indo-European languages\">Indo-European</a>,\n",
       " <a href=\"/wiki/Romance_languages\" title=\"Romance languages\">Romance</a>,\n",
       " <a class=\"mw-redirect\" href=\"/wiki/ISO_639:tam\" title=\"ISO 639:tam\">Tamil</a>,\n",
       " <a href=\"/wiki/Dravidian_languages\" title=\"Dravidian languages\">Dravidian</a>,\n",
       " <a class=\"mw-redirect\" href=\"/wiki/ISO_639:arz\" title=\"ISO 639:arz\">Egyptian Arabic</a>,\n",
       " <a href=\"/wiki/Afroasiatic_languages\" title=\"Afroasiatic languages\">Afroasiatic</a>,\n",
       " <a href=\"/wiki/Semitic_languages\" title=\"Semitic languages\">Semitic</a>,\n",
       " <a class=\"mw-redirect\" href=\"/wiki/ISO_639:deu\" title=\"ISO 639:deu\">Standard German</a>,\n",
       " <a href=\"/wiki/Indo-European_languages\" title=\"Indo-European languages\">Indo-European</a>,\n",
       " <a href=\"/wiki/Germanic_languages\" title=\"Germanic languages\">Germanic</a>,\n",
       " <a class=\"mw-redirect\" href=\"/wiki/ISO_639:urd\" title=\"ISO 639:urd\">Urdu</a>,\n",
       " <a href=\"/wiki/Indo-European_languages\" title=\"Indo-European languages\">Indo-European</a>,\n",
       " <a href=\"/wiki/Indo-Aryan_languages\" title=\"Indo-Aryan languages\">Indo-Aryan</a>,\n",
       " <a class=\"mw-redirect\" href=\"/wiki/ISO_639:jav\" title=\"ISO 639:jav\">Javanese</a>,\n",
       " <a href=\"/wiki/Austronesian_languages\" title=\"Austronesian languages\">Austronesian</a>,\n",
       " <a href=\"/wiki/Malayo-Polynesian_languages\" title=\"Malayo-Polynesian languages\">Malayo-Polynesian</a>,\n",
       " <a class=\"mw-redirect\" href=\"/wiki/ISO_639:pnb\" title=\"ISO 639:pnb\">Western Punjabi</a>,\n",
       " <a href=\"/wiki/Indo-European_languages\" title=\"Indo-European languages\">Indo-European</a>,\n",
       " <a href=\"/wiki/Indo-Aryan_languages\" title=\"Indo-Aryan languages\">Indo-Aryan</a>,\n",
       " <a class=\"mw-redirect\" href=\"/wiki/ISO_639:ita\" title=\"ISO 639:ita\">Italian</a>,\n",
       " <a href=\"/wiki/Indo-European_languages\" title=\"Indo-European languages\">Indo-European</a>,\n",
       " <a href=\"/wiki/Romance_languages\" title=\"Romance languages\">Romance</a>,\n",
       " <a class=\"mw-redirect\" href=\"/wiki/ISO_639:guj\" title=\"ISO 639:guj\">Gujarati</a>,\n",
       " <a href=\"/wiki/Indo-European_languages\" title=\"Indo-European languages\">Indo-European</a>,\n",
       " <a href=\"/wiki/Indo-Aryan_languages\" title=\"Indo-Aryan languages\">Indo-Aryan</a>,\n",
       " <a class=\"mw-redirect\" href=\"/wiki/ISO_639:pes\" title=\"ISO 639:pes\">Iranian Persian</a>,\n",
       " <a href=\"/wiki/Indo-European_languages\" title=\"Indo-European languages\">Indo-European</a>,\n",
       " <a href=\"/wiki/Iranian_languages\" title=\"Iranian languages\">Iranian</a>,\n",
       " <a class=\"mw-redirect\" href=\"/wiki/ISO_639:bho\" title=\"ISO 639:bho\">Bhojpuri</a>,\n",
       " <a href=\"/wiki/Indo-European_languages\" title=\"Indo-European languages\">Indo-European</a>,\n",
       " <a href=\"/wiki/Indo-Aryan_languages\" title=\"Indo-Aryan languages\">Indo-Aryan</a>,\n",
       " <a class=\"mw-redirect\" href=\"/wiki/ISO_639:hau\" title=\"ISO 639:hau\">Hausa</a>,\n",
       " <a href=\"/wiki/Afroasiatic_languages\" title=\"Afroasiatic languages\">Afroasiatic</a>,\n",
       " <a href=\"/wiki/Chadic_languages\" title=\"Chadic languages\">Chadic</a>]"
      ]
     },
     "execution_count": 52,
     "metadata": {},
     "output_type": "execute_result"
    }
   ],
   "source": [
    "prestab.select(\"tr td a\")"
   ]
  },
  {
   "cell_type": "code",
   "execution_count": 48,
   "id": "9ea1ee19",
   "metadata": {
    "scrolled": true
   },
   "outputs": [],
   "source": [
    "pre_list=[]\n",
    "for i in prestab.select(\"tr td a\"):\n",
    "    pre_list.append(i.get_text())"
   ]
  },
  {
   "cell_type": "code",
   "execution_count": 49,
   "id": "0c553a3f",
   "metadata": {
    "scrolled": true
   },
   "outputs": [
    {
     "data": {
      "text/plain": [
       "['Mandarin Chinese',\n",
       " 'Sino-Tibetan',\n",
       " 'Sinitic',\n",
       " 'Spanish',\n",
       " 'Indo-European',\n",
       " 'Romance',\n",
       " 'English',\n",
       " 'Indo-European',\n",
       " 'Germanic',\n",
       " 'Hindi',\n",
       " 'Indo-European',\n",
       " 'Indo-Aryan',\n",
       " 'Portuguese',\n",
       " 'Indo-European',\n",
       " 'Romance',\n",
       " 'Bengali',\n",
       " 'Indo-European',\n",
       " 'Indo-Aryan',\n",
       " 'Russian',\n",
       " 'Indo-European',\n",
       " 'Balto-Slavic',\n",
       " 'Japanese',\n",
       " 'Japonic',\n",
       " 'Japanese',\n",
       " 'Yue Chinese',\n",
       " 'Sino-Tibetan',\n",
       " 'Sinitic',\n",
       " 'Vietnamese',\n",
       " 'Austroasiatic',\n",
       " 'Vietic',\n",
       " 'Turkish',\n",
       " 'Turkic',\n",
       " 'Oghuz',\n",
       " 'Wu Chinese',\n",
       " 'Sino-Tibetan',\n",
       " 'Sinitic',\n",
       " 'Marathi',\n",
       " 'Indo-European',\n",
       " 'Indo-Aryan',\n",
       " 'Telugu',\n",
       " 'Dravidian',\n",
       " 'Korean',\n",
       " 'Koreanic',\n",
       " 'French',\n",
       " 'Indo-European',\n",
       " 'Romance',\n",
       " 'Tamil',\n",
       " 'Dravidian',\n",
       " 'Egyptian Arabic',\n",
       " 'Afroasiatic',\n",
       " 'Semitic',\n",
       " 'Standard German',\n",
       " 'Indo-European',\n",
       " 'Germanic',\n",
       " 'Urdu',\n",
       " 'Indo-European',\n",
       " 'Indo-Aryan',\n",
       " 'Javanese',\n",
       " 'Austronesian',\n",
       " 'Malayo-Polynesian',\n",
       " 'Western Punjabi',\n",
       " 'Indo-European',\n",
       " 'Indo-Aryan',\n",
       " 'Italian',\n",
       " 'Indo-European',\n",
       " 'Romance',\n",
       " 'Gujarati',\n",
       " 'Indo-European',\n",
       " 'Indo-Aryan',\n",
       " 'Iranian Persian',\n",
       " 'Indo-European',\n",
       " 'Iranian',\n",
       " 'Bhojpuri',\n",
       " 'Indo-European',\n",
       " 'Indo-Aryan',\n",
       " 'Hausa',\n",
       " 'Afroasiatic',\n",
       " 'Chadic']"
      ]
     },
     "execution_count": 49,
     "metadata": {},
     "output_type": "execute_result"
    }
   ],
   "source": [
    "pre_list"
   ]
  },
  {
   "cell_type": "code",
   "execution_count": 51,
   "id": "70d0d2d7",
   "metadata": {
    "scrolled": true
   },
   "outputs": [
    {
     "data": {
      "text/plain": [
       "['Mandarin Chinese',\n",
       " 'Spanish',\n",
       " 'English',\n",
       " 'Hindi',\n",
       " 'Portuguese',\n",
       " 'Bengali',\n",
       " 'Russian',\n",
       " 'Japanese',\n",
       " 'Yue Chinese',\n",
       " 'Vietnamese',\n",
       " 'Turkish',\n",
       " 'Wu Chinese',\n",
       " 'Marathi',\n",
       " 'Telugu',\n",
       " 'Koreanic',\n",
       " 'Romance',\n",
       " 'Egyptian Arabic',\n",
       " 'Standard German',\n",
       " 'Urdu',\n",
       " 'Javanese',\n",
       " 'Western Punjabi',\n",
       " 'Italian',\n",
       " 'Gujarati',\n",
       " 'Iranian Persian',\n",
       " 'Bhojpuri',\n",
       " 'Hausa']"
      ]
     },
     "execution_count": 51,
     "metadata": {},
     "output_type": "execute_result"
    }
   ],
   "source": [
    "languages = pre_list[::3]\n",
    "languages"
   ]
  },
  {
   "cell_type": "code",
   "execution_count": 56,
   "id": "d48454ce",
   "metadata": {},
   "outputs": [],
   "source": [
    "top10_languages = languages[:10]"
   ]
  },
  {
   "cell_type": "code",
   "execution_count": 57,
   "id": "a7750cf9",
   "metadata": {},
   "outputs": [
    {
     "data": {
      "text/plain": [
       "10"
      ]
     },
     "execution_count": 57,
     "metadata": {},
     "output_type": "execute_result"
    }
   ],
   "source": [
    "len(top10_languages)"
   ]
  },
  {
   "cell_type": "code",
   "execution_count": 1,
   "id": "90ca493f",
   "metadata": {},
   "outputs": [],
   "source": [
    "# soup.select(\"table\")[0]"
   ]
  },
  {
   "cell_type": "code",
   "execution_count": 2,
   "id": "5a070da5",
   "metadata": {},
   "outputs": [],
   "source": [
    "# prestab.select(\"td\")"
   ]
  },
  {
   "cell_type": "code",
   "execution_count": 65,
   "id": "ed6e2acd",
   "metadata": {},
   "outputs": [],
   "source": [
    "pre_list_numb_speak=[]\n",
    "for i in prestab.select(\"td\"):\n",
    "    pre_list_numb_speak.append(i.get_text().strip())"
   ]
  },
  {
   "cell_type": "code",
   "execution_count": 66,
   "id": "270b0f50",
   "metadata": {},
   "outputs": [
    {
     "data": {
      "text/plain": [
       "['939',\n",
       " '485',\n",
       " '380',\n",
       " '345',\n",
       " '236',\n",
       " '234',\n",
       " '147',\n",
       " '123',\n",
       " '86.1',\n",
       " '85.0',\n",
       " '84.0',\n",
       " '83.4',\n",
       " '83.2',\n",
       " '83.0',\n",
       " '81.7',\n",
       " '80.8',\n",
       " '78.6',\n",
       " '77.4',\n",
       " '75.3',\n",
       " '70.6',\n",
       " '68.3',\n",
       " '66.7',\n",
       " '64.6',\n",
       " '57.1',\n",
       " '57.2',\n",
       " '52.3',\n",
       " '51.7']"
      ]
     },
     "execution_count": 66,
     "metadata": {},
     "output_type": "execute_result"
    }
   ],
   "source": [
    "number_speakers = pre_list_numb_speak[1::4]\n",
    "number_speakers"
   ]
  },
  {
   "cell_type": "code",
   "execution_count": 68,
   "id": "08652370",
   "metadata": {},
   "outputs": [],
   "source": [
    "top10_number_speakers = number_speakers[:10]"
   ]
  },
  {
   "cell_type": "code",
   "execution_count": 69,
   "id": "9240d6d1",
   "metadata": {},
   "outputs": [],
   "source": [
    "# each list becomes a column\n",
    "top_10_speaked_languages = pd.DataFrame({\"language\":top10_languages,\n",
    "                           \"number_of_speakers\":top10_number_speakers\n",
    "                          })"
   ]
  },
  {
   "cell_type": "code",
   "execution_count": 70,
   "id": "5af3af8e",
   "metadata": {
    "scrolled": true
   },
   "outputs": [
    {
     "data": {
      "text/html": [
       "<div>\n",
       "<style scoped>\n",
       "    .dataframe tbody tr th:only-of-type {\n",
       "        vertical-align: middle;\n",
       "    }\n",
       "\n",
       "    .dataframe tbody tr th {\n",
       "        vertical-align: top;\n",
       "    }\n",
       "\n",
       "    .dataframe thead th {\n",
       "        text-align: right;\n",
       "    }\n",
       "</style>\n",
       "<table border=\"1\" class=\"dataframe\">\n",
       "  <thead>\n",
       "    <tr style=\"text-align: right;\">\n",
       "      <th></th>\n",
       "      <th>language</th>\n",
       "      <th>number_of_speakers</th>\n",
       "    </tr>\n",
       "  </thead>\n",
       "  <tbody>\n",
       "    <tr>\n",
       "      <th>0</th>\n",
       "      <td>Mandarin Chinese</td>\n",
       "      <td>939</td>\n",
       "    </tr>\n",
       "    <tr>\n",
       "      <th>1</th>\n",
       "      <td>Spanish</td>\n",
       "      <td>485</td>\n",
       "    </tr>\n",
       "    <tr>\n",
       "      <th>2</th>\n",
       "      <td>English</td>\n",
       "      <td>380</td>\n",
       "    </tr>\n",
       "    <tr>\n",
       "      <th>3</th>\n",
       "      <td>Hindi</td>\n",
       "      <td>345</td>\n",
       "    </tr>\n",
       "    <tr>\n",
       "      <th>4</th>\n",
       "      <td>Portuguese</td>\n",
       "      <td>236</td>\n",
       "    </tr>\n",
       "    <tr>\n",
       "      <th>5</th>\n",
       "      <td>Bengali</td>\n",
       "      <td>234</td>\n",
       "    </tr>\n",
       "    <tr>\n",
       "      <th>6</th>\n",
       "      <td>Russian</td>\n",
       "      <td>147</td>\n",
       "    </tr>\n",
       "    <tr>\n",
       "      <th>7</th>\n",
       "      <td>Japanese</td>\n",
       "      <td>123</td>\n",
       "    </tr>\n",
       "    <tr>\n",
       "      <th>8</th>\n",
       "      <td>Yue Chinese</td>\n",
       "      <td>86.1</td>\n",
       "    </tr>\n",
       "    <tr>\n",
       "      <th>9</th>\n",
       "      <td>Vietnamese</td>\n",
       "      <td>85.0</td>\n",
       "    </tr>\n",
       "  </tbody>\n",
       "</table>\n",
       "</div>"
      ],
      "text/plain": [
       "           language number_of_speakers\n",
       "0  Mandarin Chinese                939\n",
       "1           Spanish                485\n",
       "2           English                380\n",
       "3             Hindi                345\n",
       "4        Portuguese                236\n",
       "5           Bengali                234\n",
       "6           Russian                147\n",
       "7          Japanese                123\n",
       "8       Yue Chinese               86.1\n",
       "9        Vietnamese               85.0"
      ]
     },
     "execution_count": 70,
     "metadata": {},
     "output_type": "execute_result"
    }
   ],
   "source": [
    "top_10_speaked_languages"
   ]
  },
  {
   "cell_type": "markdown",
   "id": "65095153",
   "metadata": {},
   "source": [
    "### Display 4 pages of latest earthquakes info (date, time, latitude, longitude and region name) by the EMSC as a pandas dataframe"
   ]
  },
  {
   "cell_type": "code",
   "execution_count": 71,
   "id": "c5da7917",
   "metadata": {},
   "outputs": [],
   "source": [
    "# url: we start with the 'first' page. Show that you can start whenever you want\n",
    "url2 = \"https://emsc-csem.org/Earthquake_information/#1\""
   ]
  },
  {
   "cell_type": "code",
   "execution_count": 72,
   "id": "eb95aa60",
   "metadata": {},
   "outputs": [
    {
     "data": {
      "text/plain": [
       "200"
      ]
     },
     "execution_count": 72,
     "metadata": {},
     "output_type": "execute_result"
    }
   ],
   "source": [
    "# download html with a get request\n",
    "response2 = requests.get(url2)\n",
    "response2.status_code # 200 status code means OK!"
   ]
  },
  {
   "cell_type": "code",
   "execution_count": 73,
   "id": "715a0d44",
   "metadata": {},
   "outputs": [],
   "source": [
    "# parse html (create the 'soup')\n",
    "soup2 = BeautifulSoup(response2.content, \"html.parser\")"
   ]
  },
  {
   "cell_type": "code",
   "execution_count": 75,
   "id": "ed08bb76",
   "metadata": {},
   "outputs": [],
   "source": [
    "# check that the html code looks like it should\n",
    "# soup"
   ]
  },
  {
   "cell_type": "code",
   "execution_count": 80,
   "id": "5d78d5bd",
   "metadata": {},
   "outputs": [
    {
     "data": {
      "text/plain": [
       "range(1, 4)"
      ]
     },
     "execution_count": 80,
     "metadata": {},
     "output_type": "execute_result"
    }
   ],
   "source": [
    "range(1,4)"
   ]
  },
  {
   "cell_type": "code",
   "execution_count": 98,
   "id": "9f8c57fd",
   "metadata": {},
   "outputs": [
    {
     "name": "stdout",
     "output_type": "stream",
     "text": [
      "Status code: 200\n",
      "I will sleep for 1.646 seconds.\n",
      "Status code: 200\n",
      "I will sleep for 0.025 seconds.\n",
      "Status code: 200\n",
      "I will sleep for 0.051 seconds.\n"
     ]
    }
   ],
   "source": [
    "from random import randint\n",
    "from time import sleep\n",
    "pages = []\n",
    "\n",
    "for i in range(1,4):\n",
    "    # assemble the url:\n",
    "    start_at= str(i)\n",
    "    url3 = \"https://emsc-csem.org/Earthquake_information/#\"+str(i)\n",
    "\n",
    "    # download html with a get request:\n",
    "    response3 = requests.get(url3)\n",
    "    #response = requests.get(url, headers = {\"Accept-Language\": \"en-US\"}) to get responses in English\n",
    "\n",
    "    # monitor the process by printing the status code\n",
    "    print(\"Status code: \" + str(response3.status_code))\n",
    "\n",
    "    # store response into \"pages\" list\n",
    "    pages.append(response3)\n",
    "\n",
    "    # respectful nap:\n",
    "    wait_time = randint(1,4000)\n",
    "    print(\"I will sleep for \" + str(wait_time/1000) + \" seconds.\")\n",
    "    sleep(wait_time/1000)"
   ]
  },
  {
   "cell_type": "code",
   "execution_count": 118,
   "id": "97cb84c0",
   "metadata": {},
   "outputs": [],
   "source": [
    "# Parse just the first page, for testing purposes\n",
    "soup3 = BeautifulSoup(pages[1].content, \"html.parser\")"
   ]
  },
  {
   "cell_type": "code",
   "execution_count": 3,
   "id": "eceb352c",
   "metadata": {
    "scrolled": true
   },
   "outputs": [],
   "source": [
    "# soup3"
   ]
  },
  {
   "cell_type": "code",
   "execution_count": 115,
   "id": "2ec5577e",
   "metadata": {
    "scrolled": true
   },
   "outputs": [
    {
     "data": {
      "text/plain": [
       "[]"
      ]
     },
     "execution_count": 115,
     "metadata": {},
     "output_type": "execute_result"
    }
   ],
   "source": [
    "prestab3 = soup3.select(\"table\")[0]\n",
    "prestab3\n",
    "prestab3.select(\"a\")"
   ]
  },
  {
   "cell_type": "code",
   "execution_count": 117,
   "id": "a241260f",
   "metadata": {},
   "outputs": [
    {
     "data": {
      "text/plain": [
       "[]"
      ]
     },
     "execution_count": 117,
     "metadata": {},
     "output_type": "execute_result"
    }
   ],
   "source": [
    "soup3.select(\"div.content > div.htab > table > tbody > tr.lilist.e_1623460\")"
   ]
  },
  {
   "cell_type": "code",
   "execution_count": null,
   "id": "ad4551f7",
   "metadata": {},
   "outputs": [],
   "source": []
  }
 ],
 "metadata": {
  "kernelspec": {
   "display_name": "Python 3 (ipykernel)",
   "language": "python",
   "name": "python3"
  },
  "language_info": {
   "codemirror_mode": {
    "name": "ipython",
    "version": 3
   },
   "file_extension": ".py",
   "mimetype": "text/x-python",
   "name": "python",
   "nbconvert_exporter": "python",
   "pygments_lexer": "ipython3",
   "version": "3.11.5"
  }
 },
 "nbformat": 4,
 "nbformat_minor": 5
}
